{
 "cells": [
  {
   "cell_type": "code",
   "execution_count": 57,
   "metadata": {},
   "outputs": [],
   "source": [
    "import six\n",
    "import sys\n",
    "sys.modules['sklearn.externals.six'] = six\n",
    "\n",
    "import mlrose\n",
    "import numpy as np\n",
    "import time\n",
    "\n",
    "import matplotlib as mlp"
   ]
  },
  {
   "cell_type": "code",
   "execution_count": null,
   "metadata": {},
   "outputs": [],
   "source": [
    "# four peaks simulated annealing "
   ]
  },
  {
   "cell_type": "code",
   "execution_count": 201,
   "metadata": {},
   "outputs": [],
   "source": [
    "def rand_opt_simulated_annealing(length, fitness, random_state):\n",
    "    problem = mlrose.DiscreteOpt(length=length, fitness_fn=fitness, maximize=True)\n",
    "    start_time = time.time()\n",
    "    T = mlrose.ExpDecay()\n",
    "    best_state, best_fitness = mlrose.simulated_annealing(problem, random_state=random_state, schedule=T, max_attempts=50, max_iters=np.inf)\n",
    "    running_time = time.time() - start_time\n",
    "    return [best_fitness, running_time]\n",
    "    print(best_fitness, running_time)"
   ]
  },
  {
   "cell_type": "code",
   "execution_count": 202,
   "metadata": {},
   "outputs": [
    {
     "name": "stdout",
     "output_type": "stream",
     "text": [
      "[[17.0, 0.003531932830810547], [30.0, 0.021728038787841797], [50.0, 0.0514378547668457], [70.0, 0.10392117500305176], [85.0, 0.17348408699035645], [106.0, 0.18292498588562012], [123.0, 0.3781471252441406], [138.0, 0.5067720413208008], [160.0, 0.7272388935089111], [173.0, 0.787545919418335], [205.0, 0.9557209014892578], [223.0, 1.2951068878173828], [212.0, 1.6288139820098877], [241.0, 2.0367648601531982], [264.0, 3.4929089546203613]]\n"
     ]
    }
   ],
   "source": [
    "fitness = mlrose.FourPeaks(t_pct=0.15)\n",
    "random_state = 1\n",
    "res_sa = []\n",
    "for length in range(10,300,20):\n",
    "    res = rand_opt_simulated_annealing(length, fitness, random_state)\n",
    "    # print(res)\n",
    "    # print(length)\n",
    "    # res.append(length)\n",
    "    #print(res)\n",
    "    res_sa.append(res)\n",
    "print(res_sa)\n",
    "    # print('length {}'.format(length))"
   ]
  },
  {
   "cell_type": "code",
   "execution_count": 203,
   "metadata": {},
   "outputs": [
    {
     "name": "stdout",
     "output_type": "stream",
     "text": [
      "[[10.0, 0.014915943145751953], [30.0, 0.01157522201538086], [49.0, 0.013802051544189453], [65.0, 0.010307073593139648], [81.0, 0.012959957122802734], [109.0, 0.019356966018676758], [126.0, 0.01741790771484375], [147.0, 0.021512985229492188], [168.0, 0.02610611915588379], [186.0, 0.023199081420898438], [196.0, 0.01942920684814453], [219.0, 0.02321004867553711], [239.0, 0.023734092712402344], [258.0, 0.024549007415771484], [277.0, 0.027662038803100586]]\n"
     ]
    }
   ],
   "source": [
    "fitness = mlrose.OneMax()\n",
    "random_state = 1\n",
    "res_sa_onemax = []\n",
    "for length in range(10,300,20):\n",
    "    res = rand_opt_simulated_annealing(length, fitness, random_state)\n",
    "    # print(res)\n",
    "    # print(length)\n",
    "    # res.append(length)\n",
    "    #print(res)\n",
    "    res_sa_onemax.append(res)\n",
    "print(res_sa_onemax)"
   ]
  },
  {
   "cell_type": "code",
   "execution_count": 204,
   "metadata": {},
   "outputs": [
    {
     "name": "stdout",
     "output_type": "stream",
     "text": [
      "[[9.0, 0.00921010971069336], [29.0, 0.029422998428344727], [47.0, 0.051155805587768555], [67.0, 0.14333605766296387], [85.0, 0.22039389610290527], [106.0, 0.11533617973327637], [123.0, 0.14661335945129395], [141.0, 0.11863923072814941], [157.0, 0.26070094108581543], [179.0, 0.38881492614746094], [198.0, 0.43949413299560547], [218.0, 0.4895598888397217], [234.0, 0.5671780109405518], [254.0, 0.6999611854553223], [274.0, 0.9737260341644287]]\n"
     ]
    }
   ],
   "source": [
    "fitness = mlrose.FlipFlop()\n",
    "random_state = 1\n",
    "res_sa_ff = []\n",
    "for length in range(10,300,20):\n",
    "    res = rand_opt_simulated_annealing(length, fitness, random_state)\n",
    "    res_sa_ff.append(res)\n",
    "print(res_sa_ff)"
   ]
  },
  {
   "cell_type": "code",
   "execution_count": null,
   "metadata": {},
   "outputs": [],
   "source": [
    "# four peaks random hill climb "
   ]
  },
  {
   "cell_type": "code",
   "execution_count": 96,
   "metadata": {},
   "outputs": [],
   "source": [
    "def rand_opt_rhc(length, fitness, randome_state, attempts):\n",
    "    problem = mlrose.DiscreteOpt(length = length , fitness_fn = fitness, maximize = True)\n",
    "    start_time = time.time()\n",
    "    best_state, best_fitness = mlrose.random_hill_climb(problem, random_state=random_state, restarts=0, max_attempts=attempts, curve=False)\n",
    "    running_time = time.time() - start_time\n",
    "    return [best_fitness, running_time]"
   ]
  },
  {
   "cell_type": "code",
   "execution_count": 97,
   "metadata": {},
   "outputs": [
    {
     "name": "stdout",
     "output_type": "stream",
     "text": [
      "[[10.0, 0.005835056304931641], [30.0, 0.011080026626586914], [50.0, 0.03866386413574219], [4.0, 0.00892496109008789], [75.0, 0.07814693450927734], [59.0, 0.05907917022705078], [16.0, 0.013862133026123047], [40.0, 0.06230902671813965], [16.0, 0.017240047454833984], [27.0, 0.027677059173583984], [16.0, 0.017007827758789062], [6.0, 0.008099079132080078], [16.0, 0.01997065544128418], [3.0, 0.006618022918701172], [3.0, 0.007730245590209961]]\n"
     ]
    }
   ],
   "source": [
    "res_rhc = []\n",
    "fitness = mlrose.FourPeaks(t_pct=0.15)\n",
    "# length = 100\n",
    "random_state = 1\n",
    "max_attempts = 300\n",
    "for length in range(10,300, 20):\n",
    "    res = rand_opt_rhc(length, fitness, random_state, max_attempts)\n",
    "    res_rhc.append(res)\n",
    "print (res_rhc) \n"
   ]
  },
  {
   "cell_type": "code",
   "execution_count": 107,
   "metadata": {},
   "outputs": [
    {
     "name": "stdout",
     "output_type": "stream",
     "text": [
      "[[10.0, 0.012907981872558594], [30.0, 0.01349496841430664], [50.0, 0.013889074325561523], [70.0, 0.012689828872680664], [90.0, 0.013091087341308594], [110.0, 0.01726698875427246], [130.0, 0.01589179039001465], [150.0, 0.01698017120361328], [169.0, 0.01871013641357422], [189.0, 0.01982283592224121], [210.0, 0.02924489974975586], [230.0, 0.028532028198242188], [250.0, 0.030113935470581055], [270.0, 0.034609317779541016], [290.0, 0.03507518768310547]]\n"
     ]
    }
   ],
   "source": [
    "res_rhc_onemax = []\n",
    "fitness = mlrose.OneMax()\n",
    "# length = 100\n",
    "random_state = 1\n",
    "max_attempts = 300\n",
    "for length in range(10,300, 20):\n",
    "    # print('length: {}'.format(length))\n",
    "    res = rand_opt_rhc(length, fitness, random_state, max_attempts)\n",
    "    res_rhc_onemax.append(res)\n",
    "print(res_rhc_onemax) "
   ]
  },
  {
   "cell_type": "code",
   "execution_count": 114,
   "metadata": {},
   "outputs": [
    {
     "name": "stdout",
     "output_type": "stream",
     "text": [
      "[[8.0, 0.004927158355712891], [24.0, 0.008491039276123047], [40.0, 0.01251530647277832], [55.0, 0.016270875930786133], [67.0, 0.01907491683959961], [84.0, 0.023013830184936523], [101.0, 0.03546404838562012], [121.0, 0.04024481773376465], [138.0, 0.051775217056274414], [153.0, 0.06808185577392578], [170.0, 0.0658566951751709], [186.0, 0.052659034729003906], [204.0, 0.06015610694885254], [216.0, 0.1089019775390625], [234.0, 0.12491512298583984]]\n"
     ]
    }
   ],
   "source": [
    "res_rhc_ff = []\n",
    "fitness = mlrose.FlipFlop()\n",
    "# length = 100\n",
    "random_state = 1\n",
    "max_attempts = 300\n",
    "for length in range(10,300, 20):\n",
    "    res = rand_opt_rhc(length, fitness, random_state, max_attempts)\n",
    "    res_rhc_ff.append(res)\n",
    "print (res_rhc_ff) "
   ]
  },
  {
   "cell_type": "code",
   "execution_count": null,
   "metadata": {},
   "outputs": [],
   "source": [
    "# genetic algorithm "
   ]
  },
  {
   "cell_type": "code",
   "execution_count": 210,
   "metadata": {},
   "outputs": [],
   "source": [
    "def rand_opt_genetic_algo(length, fitness, random_state, mutation_prob, max_attempts, popsize):\n",
    "    #%%time\n",
    "    problem = mlrose.DiscreteOpt(length=length, fitness_fn=fitness, maximize=True)\n",
    "    start_time = time.time()\n",
    "    best_state, best_fitness = mlrose.genetic_alg(problem, random_state=random_state, mutation_prob=mutation_prob, max_attempts= max_attempts, pop_size=popsize)\n",
    "    running_time = time.time() - start_time\n",
    "    return [best_fitness, running_time]"
   ]
  },
  {
   "cell_type": "code",
   "execution_count": 211,
   "metadata": {},
   "outputs": [
    {
     "name": "stdout",
     "output_type": "stream",
     "text": [
      "[[17.0, 3.961575984954834], [51.0, 5.889657258987427], [74.0, 11.245261907577515], [90.0, 13.287413835525513], [22.0, 10.845891952514648], [23.0, 9.657092094421387], [21.0, 6.686683177947998], [26.0, 7.698546886444092], [24.0, 17.05026412010193], [25.0, 11.360529899597168], [23.0, 20.926379919052124], [22.0, 16.013073921203613], [26.0, 8.717023849487305], [23.0, 9.949514865875244], [24.0, 12.595575094223022]]\n"
     ]
    }
   ],
   "source": [
    "fitness = mlrose.FourPeaks(t_pct=0.15)\n",
    "random_state = 1\n",
    "mutation_prob = 0.1\n",
    "max_attempts = 300\n",
    "popsize = 200\n",
    "res_ga = []\n",
    "for length in range(10,300,20):\n",
    "    # print('length: {}'.format(length))\n",
    "    res = rand_opt_genetic_algo(length, fitness, random_state, mutation_prob, max_attempts, popsize)\n",
    "    res_ga.append(res)\n",
    "print(res_ga)\n",
    "    "
   ]
  },
  {
   "cell_type": "code",
   "execution_count": 215,
   "metadata": {},
   "outputs": [
    {
     "name": "stdout",
     "output_type": "stream",
     "text": [
      "[[10.0, 6.952636003494263], [27.0, 8.214027166366577], [41.0, 13.36717414855957], [56.0, 18.1163592338562], [66.0, 10.727160930633545], [79.0, 18.848411083221436], [94.0, 11.662788152694702], [104.0, 17.37916398048401], [120.0, 13.526735067367554], [124.0, 15.070624113082886], [139.0, 21.656252145767212], [150.0, 33.875723123550415], [159.0, 12.854904651641846], [179.0, 26.831434965133667], [184.0, 19.17459511756897]]\n"
     ]
    }
   ],
   "source": [
    "fitness = mlrose.OneMax()\n",
    "random_state = 1\n",
    "mutation_prob = 0.1\n",
    "max_attempts = 500\n",
    "popsize = 200\n",
    "res_ga_onemax = []\n",
    "for length in range(10,300,20):\n",
    "    # print('length: {}'.format(length))\n",
    "    res = rand_opt_genetic_algo(length, fitness, random_state, mutation_prob, max_attempts, popsize)\n",
    "    res_ga_onemax.append(res)\n",
    "print(res_ga_onemax)"
   ]
  },
  {
   "cell_type": "code",
   "execution_count": 109,
   "metadata": {},
   "outputs": [
    {
     "name": "stdout",
     "output_type": "stream",
     "text": [
      "[[10.0, 11.537659168243408], [28.0, 16.08872389793396], [41.0, 23.22633695602417], [55.0, 42.47620487213135], [66.0, 28.618443965911865], [78.0, 37.18190097808838], [96.0, 46.388814210891724], [103.0, 50.30313205718994], [111.0, 30.38648509979248], [126.0, 86.69876289367676], [138.0, 36.60496687889099], [154.0, 79.08212208747864], [159.0, 73.20052003860474], [174.0, 42.260260820388794], [185.0, 85.24113416671753]]\n"
     ]
    }
   ],
   "source": [
    "fitness = mlrose.OneMax()\n",
    "random_state = 1\n",
    "mutation_prob = 0.1\n",
    "max_attempts = 300\n",
    "popsize = 200\n",
    "res_ga_onemax = []\n",
    "for length in range(10,300,20):\n",
    "    # print('length: {}'.format(length))\n",
    "    res = rand_opt_genetic_algo(length, fitness, random_state, mutation_prob, max_attempts, popsize)\n",
    "    res_ga_onemax.append(res)\n",
    "print(res_ga_onemax)"
   ]
  },
  {
   "cell_type": "code",
   "execution_count": 213,
   "metadata": {},
   "outputs": [
    {
     "name": "stdout",
     "output_type": "stream",
     "text": [
      "[[9.0, 3.8979618549346924], [27.0, 11.774582147598267], [40.0, 10.45060396194458], [53.0, 6.379797697067261], [71.0, 9.966411828994751], [78.0, 10.690855264663696], [89.0, 9.103348016738892], [100.0, 11.539927244186401], [114.0, 9.36038613319397], [125.0, 20.282064199447632], [135.0, 12.70269227027893], [147.0, 17.81417179107666], [160.0, 25.81178903579712], [172.0, 45.944478034973145], [179.0, 15.035163879394531]]\n"
     ]
    }
   ],
   "source": [
    "fitness = mlrose.FlipFlop()\n",
    "random_state = 1\n",
    "mutation_prob = 0.1\n",
    "max_attempts = 300\n",
    "popsize = 200\n",
    "res_ga_ff = []\n",
    "for length in range(10,300,20):\n",
    "    res = rand_opt_genetic_algo(length, fitness, random_state, mutation_prob, max_attempts, popsize)\n",
    "    res_ga_ff.append(res)\n",
    "print(res_ga_ff)"
   ]
  },
  {
   "cell_type": "code",
   "execution_count": null,
   "metadata": {},
   "outputs": [],
   "source": [
    "# mimic "
   ]
  },
  {
   "cell_type": "code",
   "execution_count": 101,
   "metadata": {},
   "outputs": [],
   "source": [
    "def rad_opt_mimic(length, fitness, random_state, pop_size):\n",
    "    #%%time\n",
    "    problem = mlrose.DiscreteOpt(length=length, fitness_fn=fitness, maximize=True)\n",
    "    start_time = time.time()\n",
    "    best_state, best_fitness = mlrose.mimic(problem, random_state=random_state, curve=False, keep_pct=0.2, max_attempts=30, fast_mimic=True, pop_size=popsize)\n",
    "    running_time = time.time() - start_time\n",
    "    return [best_fitness, running_time]"
   ]
  },
  {
   "cell_type": "code",
   "execution_count": 103,
   "metadata": {},
   "outputs": [],
   "source": [
    "# length = 600\n",
    "popsize_ = 200\n",
    "fitness = mlrose.FourPeaks(t_pct=0.15)\n",
    "random_state = 1\n",
    "#max_attempts = 300\n",
    "res_mimic = []\n",
    "for length in range(10,300,20):\n",
    "    # print('length: {}'.format(length))\n",
    "    res = rad_opt_mimic(length, fitness, random_state, popsize)\n",
    "    res_mimic.append(res)"
   ]
  },
  {
   "cell_type": "code",
   "execution_count": 104,
   "metadata": {},
   "outputs": [
    {
     "data": {
      "text/plain": [
       "[[17.0, 0.620974063873291],\n",
       " [30.0, 3.4027700424194336],\n",
       " [42.0, 5.567487955093384],\n",
       " [53.0, 3.9136340618133545],\n",
       " [56.0, 8.79678201675415],\n",
       " [66.0, 10.295615911483765],\n",
       " [30.0, 13.669180870056152],\n",
       " [51.0, 23.348780870437622],\n",
       " [79.0, 30.400073051452637],\n",
       " [38.0, 21.212482929229736],\n",
       " [53.0, 31.157086849212646],\n",
       " [74.0, 59.52297496795654],\n",
       " [40.0, 42.937155961990356],\n",
       " [65.0, 28.876078128814697],\n",
       " [31.0, 61.045884132385254]]"
      ]
     },
     "execution_count": 104,
     "metadata": {},
     "output_type": "execute_result"
    }
   ],
   "source": [
    "res_mimic "
   ]
  },
  {
   "cell_type": "code",
   "execution_count": 110,
   "metadata": {},
   "outputs": [],
   "source": [
    "# length = 600\n",
    "popsize_ = 200\n",
    "fitness = mlrose.OneMax()\n",
    "random_state = 1\n",
    "#max_attempts = 300\n",
    "res_mimic_onemax = []\n",
    "for length in range(10,300,20):\n",
    "    # print('length: {}'.format(length))\n",
    "    res = rad_opt_mimic(length, fitness, random_state, popsize)\n",
    "    res_mimic_onemax.append(res)"
   ]
  },
  {
   "cell_type": "code",
   "execution_count": null,
   "metadata": {},
   "outputs": [],
   "source": [
    "res_mimic_onemax"
   ]
  },
  {
   "cell_type": "code",
   "execution_count": 183,
   "metadata": {},
   "outputs": [],
   "source": [
    "popsize_ = 200\n",
    "fitness = mlrose.FlipFlop()\n",
    "random_state = 1\n",
    "#max_attempts = 300\n",
    "res_mimic_ff = []\n",
    "for length in range(10,300,20):\n",
    "    # print('length: {}'.format(length))\n",
    "    res = rad_opt_mimic(length, fitness, random_state, popsize)\n",
    "    res_mimic_ff.append(res)"
   ]
  },
  {
   "cell_type": "code",
   "execution_count": 184,
   "metadata": {},
   "outputs": [
    {
     "data": {
      "text/plain": [
       "[[9.0, 0.28489184379577637],\n",
       " [26.0, 0.7588551044464111],\n",
       " [45.0, 1.7381138801574707],\n",
       " [63.0, 3.624467134475708],\n",
       " [79.0, 4.684713125228882],\n",
       " [97.0, 7.202167987823486],\n",
       " [118.0, 8.076673030853271],\n",
       " [132.0, 9.774040699005127],\n",
       " [150.0, 11.139216184616089],\n",
       " [167.0, 15.468292236328125],\n",
       " [190.0, 22.406173944473267],\n",
       " [208.0, 22.77898621559143],\n",
       " [212.0, 26.140893936157227],\n",
       " [244.0, 29.680846214294434],\n",
       " [258.0, 32.383618116378784]]"
      ]
     },
     "execution_count": 184,
     "metadata": {},
     "output_type": "execute_result"
    }
   ],
   "source": [
    "res_mimic_ff"
   ]
  },
  {
   "cell_type": "code",
   "execution_count": null,
   "metadata": {},
   "outputs": [],
   "source": [
    "# four peaks problem four algorithm comparison "
   ]
  },
  {
   "cell_type": "code",
   "execution_count": 121,
   "metadata": {},
   "outputs": [],
   "source": [
    "length = list(range(10,300,20))"
   ]
  },
  {
   "cell_type": "code",
   "execution_count": 122,
   "metadata": {},
   "outputs": [
    {
     "data": {
      "text/plain": [
       "[10, 30, 50, 70, 90, 110, 130, 150, 170, 190, 210, 230, 250, 270, 290]"
      ]
     },
     "execution_count": 122,
     "metadata": {},
     "output_type": "execute_result"
    }
   ],
   "source": [
    "length"
   ]
  },
  {
   "cell_type": "code",
   "execution_count": 123,
   "metadata": {},
   "outputs": [],
   "source": [
    "res_sa_best_fit = [row[0] for row in res_sa]"
   ]
  },
  {
   "cell_type": "code",
   "execution_count": 124,
   "metadata": {},
   "outputs": [
    {
     "data": {
      "text/plain": [
       "[16.0,\n",
       " 21.0,\n",
       " 46.0,\n",
       " 42.0,\n",
       " 57.0,\n",
       " 60.0,\n",
       " 95.0,\n",
       " 90.0,\n",
       " 54.0,\n",
       " 97.0,\n",
       " 113.0,\n",
       " 102.0,\n",
       " 82.0,\n",
       " 129.0,\n",
       " 129.0]"
      ]
     },
     "execution_count": 124,
     "metadata": {},
     "output_type": "execute_result"
    }
   ],
   "source": [
    "res_sa_best_fit"
   ]
  },
  {
   "cell_type": "code",
   "execution_count": 138,
   "metadata": {},
   "outputs": [],
   "source": [
    "res_sa_time = [row[1] for row in res_sa]"
   ]
  },
  {
   "cell_type": "code",
   "execution_count": 139,
   "metadata": {},
   "outputs": [
    {
     "data": {
      "text/plain": [
       "[0.0008790493011474609,\n",
       " 0.012840032577514648,\n",
       " 0.04643702507019043,\n",
       " 0.055670976638793945,\n",
       " 0.0904378890991211,\n",
       " 0.06093883514404297,\n",
       " 0.2471320629119873,\n",
       " 0.3269476890563965,\n",
       " 0.22742199897766113,\n",
       " 0.3357517719268799,\n",
       " 0.3191990852355957,\n",
       " 0.49047017097473145,\n",
       " 0.48313403129577637,\n",
       " 0.7670011520385742,\n",
       " 0.8110592365264893]"
      ]
     },
     "execution_count": 139,
     "metadata": {},
     "output_type": "execute_result"
    }
   ],
   "source": [
    "res_sa_time"
   ]
  },
  {
   "cell_type": "code",
   "execution_count": 125,
   "metadata": {},
   "outputs": [],
   "source": [
    "res_rhc_best_fit = [row[0] for row in res_rhc]"
   ]
  },
  {
   "cell_type": "code",
   "execution_count": 126,
   "metadata": {},
   "outputs": [
    {
     "data": {
      "text/plain": [
       "[10.0,\n",
       " 30.0,\n",
       " 50.0,\n",
       " 4.0,\n",
       " 75.0,\n",
       " 59.0,\n",
       " 16.0,\n",
       " 40.0,\n",
       " 16.0,\n",
       " 27.0,\n",
       " 16.0,\n",
       " 6.0,\n",
       " 16.0,\n",
       " 3.0,\n",
       " 3.0]"
      ]
     },
     "execution_count": 126,
     "metadata": {},
     "output_type": "execute_result"
    }
   ],
   "source": [
    "res_rhc_best_fit"
   ]
  },
  {
   "cell_type": "code",
   "execution_count": 140,
   "metadata": {},
   "outputs": [],
   "source": [
    "res_rhc_time = [row[1] for row in res_rhc]"
   ]
  },
  {
   "cell_type": "code",
   "execution_count": 141,
   "metadata": {},
   "outputs": [
    {
     "data": {
      "text/plain": [
       "[0.005835056304931641,\n",
       " 0.011080026626586914,\n",
       " 0.03866386413574219,\n",
       " 0.00892496109008789,\n",
       " 0.07814693450927734,\n",
       " 0.05907917022705078,\n",
       " 0.013862133026123047,\n",
       " 0.06230902671813965,\n",
       " 0.017240047454833984,\n",
       " 0.027677059173583984,\n",
       " 0.017007827758789062,\n",
       " 0.008099079132080078,\n",
       " 0.01997065544128418,\n",
       " 0.006618022918701172,\n",
       " 0.007730245590209961]"
      ]
     },
     "execution_count": 141,
     "metadata": {},
     "output_type": "execute_result"
    }
   ],
   "source": [
    "res_rhc_time"
   ]
  },
  {
   "cell_type": "code",
   "execution_count": 127,
   "metadata": {},
   "outputs": [],
   "source": [
    "res_ga_best_fit = [row[0] for row in res_ga]"
   ]
  },
  {
   "cell_type": "code",
   "execution_count": 129,
   "metadata": {},
   "outputs": [
    {
     "data": {
      "text/plain": [
       "[17.0,\n",
       " 44.0,\n",
       " 60.0,\n",
       " 18.0,\n",
       " 20.0,\n",
       " 16.0,\n",
       " 20.0,\n",
       " 16.0,\n",
       " 20.0,\n",
       " 17.0,\n",
       " 18.0,\n",
       " 16.0,\n",
       " 19.0,\n",
       " 18.0,\n",
       " 17.0]"
      ]
     },
     "execution_count": 129,
     "metadata": {},
     "output_type": "execute_result"
    }
   ],
   "source": [
    "res_ga_best_fit"
   ]
  },
  {
   "cell_type": "code",
   "execution_count": 142,
   "metadata": {},
   "outputs": [],
   "source": [
    "res_ga_time = [row[1] for row in res_ga]"
   ]
  },
  {
   "cell_type": "code",
   "execution_count": 143,
   "metadata": {},
   "outputs": [
    {
     "data": {
      "text/plain": [
       "[10.90641713142395,\n",
       " 16.2815260887146,\n",
       " 44.35865902900696,\n",
       " 30.325307846069336,\n",
       " 54.064773082733154,\n",
       " 22.330523014068604,\n",
       " 30.398786067962646,\n",
       " 27.781496047973633,\n",
       " 50.6000771522522,\n",
       " 47.26750993728638,\n",
       " 52.01602005958557,\n",
       " 38.01728177070618,\n",
       " 63.079578161239624,\n",
       " 52.259222984313965,\n",
       " 43.54134821891785]"
      ]
     },
     "execution_count": 143,
     "metadata": {},
     "output_type": "execute_result"
    }
   ],
   "source": [
    "res_ga_time"
   ]
  },
  {
   "cell_type": "code",
   "execution_count": 130,
   "metadata": {},
   "outputs": [],
   "source": [
    "res_mimic_best_fit = [row[0] for row in res_mimic]"
   ]
  },
  {
   "cell_type": "code",
   "execution_count": 131,
   "metadata": {},
   "outputs": [
    {
     "data": {
      "text/plain": [
       "[17.0,\n",
       " 30.0,\n",
       " 42.0,\n",
       " 53.0,\n",
       " 56.0,\n",
       " 66.0,\n",
       " 30.0,\n",
       " 51.0,\n",
       " 79.0,\n",
       " 38.0,\n",
       " 53.0,\n",
       " 74.0,\n",
       " 40.0,\n",
       " 65.0,\n",
       " 31.0]"
      ]
     },
     "execution_count": 131,
     "metadata": {},
     "output_type": "execute_result"
    }
   ],
   "source": [
    "res_mimic_best_fit"
   ]
  },
  {
   "cell_type": "code",
   "execution_count": 144,
   "metadata": {},
   "outputs": [],
   "source": [
    "res_mimic_time = [row[1] for row in res_mimic]"
   ]
  },
  {
   "cell_type": "code",
   "execution_count": 137,
   "metadata": {},
   "outputs": [
    {
     "data": {
      "image/png": "[encoded data removed]",
      "text/plain": [
       "<Figure size 432x288 with 1 Axes>"
      ]
     },
     "metadata": {
      "needs_background": "light"
     },
     "output_type": "display_data"
    }
   ],
   "source": [
    "import matplotlib.pyplot as plt\n",
    "  \n",
    "\n",
    "x = length\n",
    "  \n",
    "# plot lines\n",
    "plt.plot(x, res_sa_best_fit, label = \"simulated annealing\")\n",
    "plt.plot(x,  res_rhc_best_fit, label = \"random hill climb\")\n",
    "plt.plot(x, res_ga_best_fit, label = \"genetic algorithm\")\n",
    "plt.plot(x, res_mimic_best_fit, label = \"mimic\")\n",
    "plt.legend()\n",
    "plt.title('best fit by problem size curve (Four Peaks problem)')\n",
    "plt.xlabel('problem size')\n",
    "plt.show()"
   ]
  },
  {
   "cell_type": "code",
   "execution_count": 145,
   "metadata": {},
   "outputs": [
    {
     "data": {
      "image/png": "[encoded data removed]",
      "text/plain": [
       "<Figure size 432x288 with 1 Axes>"
      ]
     },
     "metadata": {
      "needs_background": "light"
     },
     "output_type": "display_data"
    }
   ],
   "source": [
    "x = length\n",
    "  \n",
    "# plot lines\n",
    "plt.plot(x, res_sa_time, label = \"simulated annealing\")\n",
    "plt.plot(x,  res_rhc_time, label = \"random hill climb\")\n",
    "plt.plot(x, res_ga_time, label = \"genetic algorithm\")\n",
    "plt.plot(x, res_mimic_time, label = \"mimic\")\n",
    "plt.legend()\n",
    "plt.title('running time by problem size curve (Four Peaks problem)')\n",
    "plt.xlabel('problem size')\n",
    "plt.show()\n"
   ]
  },
  {
   "cell_type": "code",
   "execution_count": null,
   "metadata": {},
   "outputs": [],
   "source": [
    "# OneMax problem "
   ]
  },
  {
   "cell_type": "code",
   "execution_count": 205,
   "metadata": {},
   "outputs": [],
   "source": [
    "length = list(range(10,300,20))"
   ]
  },
  {
   "cell_type": "code",
   "execution_count": 206,
   "metadata": {},
   "outputs": [],
   "source": [
    "res_sa_onemax_best_fit = [row[0] for row in res_sa_onemax]\n",
    "res_sa_onemax_time = [row[1] for row in res_sa_onemax]\n",
    "\n",
    "res_rhc_onemax_best_fit = [row[0] for row in res_rhc_onemax]\n",
    "res_rhc_onemax_time = [row[1] for row in res_rhc_onemax]\n",
    "\n",
    "res_ga_onemax_best_fit = [row[0] for row in res_ga_onemax]\n",
    "res_ga_onemax_time = [row[1] for row in res_ga_onemax]\n",
    "\n",
    "res_mimic_onemax_best_fit = [row[0] for row in res_mimic_onemax]\n",
    "res_mimic_onemax_time = [row[1] for row in res_mimic_onemax]"
   ]
  },
  {
   "cell_type": "code",
   "execution_count": 207,
   "metadata": {},
   "outputs": [
    {
     "data": {
      "text/plain": [
       "[0.014915943145751953,\n",
       " 0.01157522201538086,\n",
       " 0.013802051544189453,\n",
       " 0.010307073593139648,\n",
       " 0.012959957122802734,\n",
       " 0.019356966018676758,\n",
       " 0.01741790771484375,\n",
       " 0.021512985229492188,\n",
       " 0.02610611915588379,\n",
       " 0.023199081420898438,\n",
       " 0.01942920684814453,\n",
       " 0.02321004867553711,\n",
       " 0.023734092712402344,\n",
       " 0.024549007415771484,\n",
       " 0.027662038803100586]"
      ]
     },
     "execution_count": 207,
     "metadata": {},
     "output_type": "execute_result"
    }
   ],
   "source": [
    "res_sa_onemax_time"
   ]
  },
  {
   "cell_type": "code",
   "execution_count": 208,
   "metadata": {},
   "outputs": [
    {
     "data": {
      "text/plain": [
       "[10, 30, 50, 70, 90, 110, 130, 150, 170, 190, 210, 230, 250, 270, 290]"
      ]
     },
     "execution_count": 208,
     "metadata": {},
     "output_type": "execute_result"
    }
   ],
   "source": [
    "length"
   ]
  },
  {
   "cell_type": "code",
   "execution_count": 209,
   "metadata": {},
   "outputs": [
    {
     "data": {
      "image/png": "[encoded data removed]",
      "text/plain": [
       "<Figure size 432x288 with 1 Axes>"
      ]
     },
     "metadata": {
      "needs_background": "light"
     },
     "output_type": "display_data"
    }
   ],
   "source": [
    "x = length\n",
    "  \n",
    "# plot lines\n",
    "plt.plot(x, res_sa_onemax_best_fit, label = \"simulated annealing\")\n",
    "plt.plot(x,  res_rhc_onemax_best_fit, label = \"random hill climb\")\n",
    "plt.plot(x, res_ga_onemax_best_fit, label = \"genetic algorithm\")\n",
    "plt.plot(x, res_mimic_onemax_best_fit, label = \"mimic\")\n",
    "plt.legend()\n",
    "plt.title('best fit by problem size curve (OneMax problem)')\n",
    "plt.xlabel('problem size')\n",
    "plt.show()"
   ]
  },
  {
   "cell_type": "code",
   "execution_count": 179,
   "metadata": {},
   "outputs": [
    {
     "data": {
      "image/png": "[encoded data removed]",
      "text/plain": [
       "<Figure size 432x288 with 1 Axes>"
      ]
     },
     "metadata": {
      "needs_background": "light"
     },
     "output_type": "display_data"
    }
   ],
   "source": [
    "x = length\n",
    "  \n",
    "# plot lines\n",
    "plt.plot(x, res_sa_onemax_time, label = \"simulated annealing\")\n",
    "plt.plot(x,  res_rhc_onemax_time, label = \"random hill climb\")\n",
    "plt.plot(x, res_ga_onemax_time, label = \"genetic algorithm\")\n",
    "plt.plot(x, res_mimic_onemax_time, label = \"mimic\")\n",
    "plt.legend()\n",
    "plt.title('running time by problem size curve (OneMax problem)')\n",
    "plt.xlabel('problem size')\n",
    "plt.show()"
   ]
  },
  {
   "cell_type": "code",
   "execution_count": 185,
   "metadata": {},
   "outputs": [],
   "source": [
    "# FlipFlop problem \n",
    "\n",
    "res_sa_ff_best_fit = [row[0] for row in res_sa_ff]\n",
    "res_sa_ff_time = [row[1] for row in res_sa_ff]\n",
    "\n",
    "res_rhc_ff_best_fit = [row[0] for row in res_rhc_ff]\n",
    "res_rhc_ff_time = [row[1] for row in res_rhc_ff]\n",
    "\n",
    "res_ga_ff_best_fit = [row[0] for row in res_ga_ff]\n",
    "res_ga_ff_time = [row[1] for row in res_ga_ff]\n",
    "\n",
    "res_mimic_ff_best_fit = [row[0] for row in res_mimic_ff]\n",
    "res_mimic_ff_time = [row[1] for row in res_mimic_ff]"
   ]
  },
  {
   "cell_type": "code",
   "execution_count": 187,
   "metadata": {},
   "outputs": [
    {
     "data": {
      "image/png": "[encoded data removed]",
      "text/plain": [
       "<Figure size 432x288 with 1 Axes>"
      ]
     },
     "metadata": {
      "needs_background": "light"
     },
     "output_type": "display_data"
    }
   ],
   "source": [
    "length = list(range(10,300,20))\n",
    "x = length\n",
    "  \n",
    "# plot lines\n",
    "plt.plot(x, res_sa_ff_best_fit, label = \"simulated annealing\")\n",
    "plt.plot(x,  res_rhc_ff_best_fit, label = \"random hill climb\")\n",
    "plt.plot(x, res_ga_ff_best_fit, label = \"genetic algorithm\")\n",
    "plt.plot(x, res_mimic_ff_best_fit, label = \"mimic\")\n",
    "plt.legend()\n",
    "plt.title('best fit by problem size curve (FlipFlop problem)')\n",
    "plt.xlabel('problem size')\n",
    "plt.show()"
   ]
  },
  {
   "cell_type": "code",
   "execution_count": 188,
   "metadata": {},
   "outputs": [
    {
     "data": {
      "image/png": "[encoded data removed]",
      "text/plain": [
       "<Figure size 432x288 with 1 Axes>"
      ]
     },
     "metadata": {
      "needs_background": "light"
     },
     "output_type": "display_data"
    }
   ],
   "source": [
    "x = length\n",
    "  \n",
    "# plot lines\n",
    "plt.plot(x, res_sa_ff_time, label = \"simulated annealing\")\n",
    "plt.plot(x, res_rhc_ff_time, label = \"random hill climb\")\n",
    "plt.plot(x, res_ga_ff_time, label = \"genetic algorithm\")\n",
    "plt.plot(x, res_mimic_ff_time, label = \"mimic\")\n",
    "plt.legend()\n",
    "plt.title('running time by problem size curve (FlipFlop problem)')\n",
    "plt.xlabel('problem size')\n",
    "plt.show()"
   ]
  },
  {
   "cell_type": "code",
   "execution_count": null,
   "metadata": {},
   "outputs": [],
   "source": []
  }
 ],
 "metadata": {
  "kernelspec": {
   "display_name": "Python 3.8.3 ('base')",
   "language": "python",
   "name": "python3"
  },
  "language_info": {
   "codemirror_mode": {
    "name": "ipython",
    "version": 3
   },
   "file_extension": ".py",
   "mimetype": "text/x-python",
   "name": "python",
   "nbconvert_exporter": "python",
   "pygments_lexer": "ipython3",
   "version": "3.8.3"
  },
  "orig_nbformat": 4,
  "vscode": {
   "interpreter": {
    "hash": "b938009834a226dbf5afad534276140a53d344f9263ea4714d3364853e54a844"
   }
  }
 },
 "nbformat": 4,
 "nbformat_minor": 2
}
